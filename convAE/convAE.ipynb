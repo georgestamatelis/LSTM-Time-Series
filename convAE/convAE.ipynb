{
  "nbformat": 4,
  "nbformat_minor": 0,
  "metadata": {
    "colab": {
      "name": "convAE.ipynb",
      "provenance": [],
      "collapsed_sections": []
    },
    "kernelspec": {
      "name": "python3",
      "display_name": "Python 3"
    },
    "language_info": {
      "name": "python"
    },
    "accelerator": "GPU"
  },
  "cells": [
    {
      "cell_type": "markdown",
      "source": [
        "**CONVOLUTIONAL AUTOENCODER**"
      ],
      "metadata": {
        "id": "BvWIxVo5M_g-"
      }
    },
    {
      "cell_type": "code",
      "source": [
        "import sys, os\n",
        "from sys import argv\n",
        "from csv import reader\n",
        "\n",
        "import keras\n",
        "import tensorflow as tf\n",
        "import numpy as np\n",
        "import pandas as pd\n",
        "import matplotlib.pyplot as plt\n",
        "from keras import models, layers,optimizers, losses, metrics\n",
        "from keras.models import Model,load_model\n",
        "from keras.layers import Input, Dense, Dropout, Flatten, BatchNormalization, Conv1D, MaxPooling1D, UpSampling1D\n",
        "from tensorflow.keras.optimizers import RMSprop\n",
        "from sklearn.preprocessing import MinMaxScaler\n",
        "from sklearn.preprocessing import StandardScaler\n",
        "from keras.optimizers import adam_v2\n",
        "\n",
        "#reproducability\n",
        "from numpy.random import seed\n",
        "seed(185)\n",
        "import tensorflow\n",
        "tensorflow.random.set_seed(185)"
      ],
      "metadata": {
        "id": "wDNma6RYLvoV"
      },
      "execution_count": 1,
      "outputs": []
    },
    {
      "cell_type": "markdown",
      "source": [
        "Utility functions to read and proccess data"
      ],
      "metadata": {
        "id": "koFwzpV4L6Bc"
      }
    },
    {
      "cell_type": "code",
      "source": [
        "def read_params():\n",
        "  print(\"Please provide the hyperparameters:\")\n",
        "  nodes = int(input(\"Number of nodes for the fully connected layer: \"))\n",
        "  epochs = int(input(\"Number of epochs: \"))\n",
        "  batch_size = int(input(\"Batch size: \"))\n",
        "  return nodes,epochs,batch_size\n",
        "\n",
        "def read_data(dataset_path):\n",
        "    dataset=open(dataset_path,\"r\")\n",
        "    train_data = []\n",
        "    with open(dataset_path, 'r') as read_obj:\n",
        "        for row in dataset:\n",
        "            serie=row.split()\n",
        "            serie.pop(0) #throw way the time serie name\n",
        "            serie=[float(x) for x in serie]\n",
        "            train_data.append(np.array(serie))\n",
        "    train_data=np.vstack(train_data)\n",
        "    return train_data\n",
        "\n",
        "def scale_data(train,test):\n",
        "    scaler = MinMaxScaler()\n",
        "    # scaler = StandardScaler()\n",
        "    train=scaler.fit_transform(train)\n",
        "    test =scaler.transform(test)\n",
        "    return train,test\n",
        "\n",
        "def preprocces_data(data):\n",
        "    x=data.shape[0]\n",
        "    y=data.shape[1]\n",
        "    X = data.reshape((x,y, 1))\n",
        "    return X,y"
      ],
      "metadata": {
        "id": "cQIHBVYZL2Jq"
      },
      "execution_count": 2,
      "outputs": []
    },
    {
      "cell_type": "markdown",
      "source": [
        "Defining model layers\n"
      ],
      "metadata": {
        "id": "ePB0tWKhL_db"
      }
    },
    {
      "cell_type": "code",
      "source": [
        "def encoder(input_data):\n",
        "    conv1 = Conv1D(1825, 10, activation='relu', padding='same')(input_data)\n",
        "    conv1 = BatchNormalization()(conv1)\n",
        "\n",
        "    conv1 = MaxPooling1D(2)(conv1)\n",
        "    conv1 = Dropout(0.2)(conv1)\n",
        "\n",
        "    conv1 = Conv1D(912, 10, activation='relu', padding='same')(conv1)\n",
        "    conv1 = BatchNormalization()(conv1)\n",
        "  \n",
        "    conv2 = Conv1D(456, 10, activation='relu', padding='same')(conv1)\n",
        "    conv2 = BatchNormalization()(conv2)\n",
        "    conv2 = Conv1D(1, 10, activation='relu', padding='same')(conv2)\n",
        "    conv2 = BatchNormalization( name='bottleneck_layer')(conv2)\n",
        " \n",
        "    return conv2\n",
        "\n",
        "def decoder(encoded):\n",
        "    conv = Conv1D(456, 10, activation='relu', padding='same')(encoded)\n",
        "    conv = BatchNormalization()(conv)\n",
        "    \n",
        "    conv = Conv1D(912, 10, activation='relu', padding='same')(conv)\n",
        "    conv = BatchNormalization()(conv)\n",
        "  \n",
        "    conv = UpSampling1D(2)(conv)\n",
        "    conv = Dropout(0.2)(conv)\n",
        "\n",
        "    # conv = Conv1D(1825, 10, activation='relu', padding='same')(conv)\n",
        "    # conv = BatchNormalization()(conv)\n",
        "\n",
        "    conv = Conv1D(1825, 10, activation='relu', padding='same')(conv)\n",
        "    conv = BatchNormalization()(conv)\n",
        "  \n",
        "    decoded = Conv1D(1, 10, activation='sigmoid', padding='same')(conv)\n",
        "    print(decoded)\n",
        "    return decoded"
      ],
      "metadata": {
        "id": "1pofbxJgL_yZ"
      },
      "execution_count": null,
      "outputs": []
    },
    {
      "cell_type": "markdown",
      "source": [
        "First try"
      ],
      "metadata": {
        "id": "wdVAmVDKMHbV"
      }
    },
    {
      "cell_type": "code",
      "source": [
        "dataset_path= 'nasdaq2007_17.csv'\n",
        "data = read_data(dataset_path) #read file\n",
        "train=data[:348,:]\n",
        "test=data[348:,:]\n",
        "train,test = scale_data(train,test) #scale file data\n",
        "X,y=preprocces_data(train)#reshape train data \n",
        "X_test,y_test = preprocces_data(test)\n",
        "\n",
        "input_data = Input(shape=(y, 1))\n",
        "autoencoder = keras.Model(input_data, decoder(encoder(input_data)))\n",
        "\n",
        "opt = adam_v2.Adam(learning_rate=0.00001)\n",
        "# opt = RMSprop(learning_rate=0.000001)\n",
        "autoencoder.compile(loss='mean_squared_error', optimizer = opt )\n",
        "# Train the model\n",
        "autoencoder_train = autoencoder.fit(X,X, batch_size=10,epochs=4,verbose=1,validation_data=(X_test,X_test),validation_batch_size=10)\n"
      ],
      "metadata": {
        "colab": {
          "base_uri": "https://localhost:8080/"
        },
        "id": "5gjpTchNMHv4",
        "outputId": "73d8e1a5-75c6-480c-a53e-8da710ed5527"
      },
      "execution_count": null,
      "outputs": [
        {
          "output_type": "stream",
          "name": "stdout",
          "text": [
            "KerasTensor(type_spec=TensorSpec(shape=(None, 3650, 1), dtype=tf.float32, name=None), name='conv1d_7/Sigmoid:0', description=\"created by layer 'conv1d_7'\")\n",
            "Epoch 1/4\n",
            "35/35 [==============================] - 4194s 119s/step - loss: 0.1824 - val_loss: 0.2676\n",
            "Epoch 2/4\n",
            "35/35 [==============================] - 4209s 120s/step - loss: 0.1188 - val_loss: 0.2486\n",
            "Epoch 3/4\n",
            "35/35 [==============================] - 4154s 119s/step - loss: 0.1004 - val_loss: 0.2227\n",
            "Epoch 4/4\n",
            "35/35 [==============================] - 4154s 119s/step - loss: 0.0813 - val_loss: 0.1815\n"
          ]
        }
      ]
    },
    {
      "cell_type": "markdown",
      "source": [
        "Plotting train and validation loss"
      ],
      "metadata": {
        "id": "v444LPsFMMog"
      }
    },
    {
      "cell_type": "code",
      "source": [
        "#Plot the loss\n",
        "plt.plot(autoencoder_train.history['loss'])\n",
        "plt.plot(autoencoder_train.history['val_loss'])\n",
        "plt.title('Model Loss')\n",
        "plt.ylabel('Loss')\n",
        "plt.xlabel('Epoch')\n",
        "plt.ylim(0,1)\n",
        "plt.legend(['Train', 'Validation'], loc='upper left')\n",
        "plt.show()"
      ],
      "metadata": {
        "id": "t7GVcEyAMRB9",
        "colab": {
          "base_uri": "https://localhost:8080/",
          "height": 295
        },
        "outputId": "73a6ddc3-2984-4702-f1bf-c159e0125753"
      },
      "execution_count": null,
      "outputs": [
        {
          "output_type": "display_data",
          "data": {
            "image/png": "[encoded data removed]",
            "text/plain": [
              "<Figure size 432x288 with 1 Axes>"
            ]
          },
          "metadata": {
            "needs_background": "light"
          }
        }
      ]
    },
    {
      "cell_type": "markdown",
      "source": [
        "#Experiments with different layers and parameters"
      ],
      "metadata": {
        "id": "JR7_h40BF6Sf"
      }
    },
    {
      "cell_type": "markdown",
      "source": [
        "Experimenting model 1 (layers)"
      ],
      "metadata": {
        "id": "GyL53J2nI6yt"
      }
    },
    {
      "cell_type": "code",
      "source": [
        "def encoder(input_data):\n",
        "    conv1 = Conv1D(1825, 10, activation='relu', padding='same')(input_data)\n",
        "    conv1 = BatchNormalization()(conv1)\n",
        "\n",
        "    conv1 = MaxPooling1D(2)(conv1)\n",
        "\n",
        "    conv1 = Conv1D(912, 10, activation='relu', padding='same')(conv1)\n",
        "    conv1 = BatchNormalization()(conv1)\n",
        "  \n",
        "    conv2 = Conv1D(456, 10, activation='relu', padding='same')(conv1)\n",
        "    conv2 = BatchNormalization()(conv2)\n",
        "    conv2 = Conv1D(1, 10, activation='relu', padding='same')(conv2)\n",
        "    conv2 = BatchNormalization( name='bottleneck_layer')(conv2)\n",
        "  \n",
        "    return conv2\n",
        "\n",
        "def decoder(encoded):\n",
        "    conv = Conv1D(456, 10, activation='relu', padding='same')(encoded)\n",
        "    conv = BatchNormalization()(conv)\n",
        "    \n",
        "    conv = Conv1D(912, 10, activation='relu', padding='same')(conv)\n",
        "    conv = BatchNormalization()(conv)\n",
        "  \n",
        "    conv = UpSampling1D(2)(conv)\n",
        "\n",
        "    conv = Conv1D(1825, 10, activation='relu', padding='same')(conv)\n",
        "    conv = BatchNormalization()(conv)\n",
        "  \n",
        "    decoded = Conv1D(1, 10, activation='sigmoid', padding='same')(conv)\n",
        "    print(decoded)\n",
        "    return decoded\n",
        "\n",
        "dataset_path= 'nasdaq2007_17.csv'\n",
        "data = read_data(dataset_path) #read file\n",
        "train=data[:348,:]\n",
        "test=data[348:,:]\n",
        "train,test = scale_data(train,test) #scale file data\n",
        "X,y=preprocces_data(train)#reshape train data \n",
        "X_test,y_test = preprocces_data(test)\n",
        "\n",
        "input_data = Input(shape=(y, 1))\n",
        "autoencoder = keras.Model(input_data, decoder(encoder(input_data)))\n",
        "\n",
        "opt = adam_v2.Adam(learning_rate=0.00001)\n",
        "# opt = RMSprop(learning_rate=0.000001)\n",
        "autoencoder.compile(loss='mean_squared_error', optimizer = opt )\n",
        "# Train the model\n",
        "autoencoder_train = autoencoder.fit(X,X, batch_size=10,epochs=4,verbose=1,validation_data=(X_test,X_test),validation_batch_size=10)\n",
        "\n",
        "#Plot the loss\n",
        "plt.plot(autoencoder_train.history['loss'])\n",
        "plt.plot(autoencoder_train.history['val_loss'])\n",
        "plt.title('Model Loss')\n",
        "plt.ylabel('Loss')\n",
        "plt.xlabel('Epoch')\n",
        "plt.ylim(0,1)\n",
        "plt.legend(['Train', 'Validation'], loc='upper left')\n",
        "plt.show()"
      ],
      "metadata": {
        "colab": {
          "base_uri": "https://localhost:8080/",
          "height": 468
        },
        "id": "HpGshd7qF-sg",
        "outputId": "9713942d-c1d7-44ea-e7b9-8965187abe4c"
      },
      "execution_count": null,
      "outputs": [
        {
          "output_type": "stream",
          "name": "stdout",
          "text": [
            "KerasTensor(type_spec=TensorSpec(shape=(None, 3650, 1), dtype=tf.float32, name=None), name='conv1d_39/Sigmoid:0', description=\"created by layer 'conv1d_39'\")\n",
            "Epoch 1/4\n",
            "35/35 [==============================] - 169s 4s/step - loss: 0.1263 - val_loss: 0.1833\n",
            "Epoch 2/4\n",
            "35/35 [==============================] - 153s 4s/step - loss: 0.0847 - val_loss: 0.1224\n",
            "Epoch 3/4\n",
            "35/35 [==============================] - 153s 4s/step - loss: 0.0567 - val_loss: 0.1288\n",
            "Epoch 4/4\n",
            "35/35 [==============================] - 153s 4s/step - loss: 0.0460 - val_loss: 0.1534\n"
          ]
        },
        {
          "output_type": "display_data",
          "data": {
            "image/png": "[encoded data removed]",
            "text/plain": [
              "<Figure size 432x288 with 1 Axes>"
            ]
          },
          "metadata": {
            "needs_background": "light"
          }
        }
      ]
    },
    {
      "cell_type": "markdown",
      "source": [
        "Experimenting model 2 (layers)"
      ],
      "metadata": {
        "id": "wGxXWfJ8I2q5"
      }
    },
    {
      "cell_type": "code",
      "source": [
        "def encoder(input_data):\n",
        "    conv1 = Conv1D(1825, 10, activation='relu', padding='same')(input_data)\n",
        "    conv1 = BatchNormalization()(conv1)\n",
        "\n",
        "    conv1 = MaxPooling1D(2)(conv1)\n",
        "    conv1 = Dropout(0.2)(conv1)\n",
        "\n",
        "    conv2 = Conv1D(456, 10, activation='relu', padding='same')(conv1)\n",
        "    conv2 = BatchNormalization()(conv2)\n",
        "    conv2 = Conv1D(1, 10, activation='relu', padding='same')(conv2)\n",
        "    conv2 = BatchNormalization( name='bottleneck_layer')(conv2)\n",
        "    # conv2 = MaxPooling1D(2)(conv2)\n",
        "    # conv2 = Dropout(0.2)(conv2)\n",
        "    return conv2\n",
        "\n",
        "def decoder(encoded):\n",
        "    conv = Conv1D(456, 10, activation='relu', padding='same')(encoded)\n",
        "    conv = BatchNormalization()(conv)\n",
        "    \n",
        "    conv = UpSampling1D(2)(conv)\n",
        "    conv = Dropout(0.2)(conv)\n",
        "\n",
        "    conv = Conv1D(1825, 10, activation='relu', padding='same')(conv)\n",
        "    conv = BatchNormalization()(conv)\n",
        "  \n",
        "    decoded = Conv1D(1, 10, activation='sigmoid', padding='same')(conv)\n",
        "    print(decoded)\n",
        "    return decoded\n",
        "\n",
        "dataset_path= 'nasdaq2007_17.csv'\n",
        "data = read_data(dataset_path) #read file\n",
        "train=data[:348,:]\n",
        "test=data[348:,:]\n",
        "train,test = scale_data(train,test) #scale file data\n",
        "X,y=preprocces_data(train)#reshape train data \n",
        "X_test,y_test = preprocces_data(test)\n",
        "\n",
        "input_data = Input(shape=(y, 1))\n",
        "autoencoder = keras.Model(input_data, decoder(encoder(input_data)))\n",
        "\n",
        "opt = adam_v2.Adam(learning_rate=0.00001)\n",
        "# opt = RMSprop(learning_rate=0.000001)\n",
        "autoencoder.compile(loss='mean_squared_error', optimizer = opt )\n",
        "# Train the model\n",
        "autoencoder_train = autoencoder.fit(X,X, batch_size=10,epochs=4,verbose=1,validation_data=(X_test,X_test),validation_batch_size=10)\n",
        "\n",
        "#Plot the loss\n",
        "plt.plot(autoencoder_train.history['loss'])\n",
        "plt.plot(autoencoder_train.history['val_loss'])\n",
        "plt.title('Model Loss')\n",
        "plt.ylabel('Loss')\n",
        "plt.xlabel('Epoch')\n",
        "plt.ylim(0,1)\n",
        "plt.legend(['Train', 'Validation'], loc='upper left')\n",
        "plt.show()"
      ],
      "metadata": {
        "colab": {
          "base_uri": "https://localhost:8080/",
          "height": 468
        },
        "id": "nLIFX4fbI0nQ",
        "outputId": "81c58252-8e2e-455e-de28-58614d7ab1f1"
      },
      "execution_count": null,
      "outputs": [
        {
          "output_type": "stream",
          "name": "stdout",
          "text": [
            "KerasTensor(type_spec=TensorSpec(shape=(None, 3650, 1), dtype=tf.float32, name=None), name='conv1d_45/Sigmoid:0', description=\"created by layer 'conv1d_45'\")\n",
            "Epoch 1/4\n",
            "35/35 [==============================] - 104s 2s/step - loss: 0.1345 - val_loss: 0.2188\n",
            "Epoch 2/4\n",
            "35/35 [==============================] - 76s 2s/step - loss: 0.0679 - val_loss: 0.1677\n",
            "Epoch 3/4\n",
            "35/35 [==============================] - 76s 2s/step - loss: 0.0560 - val_loss: 0.1194\n",
            "Epoch 4/4\n",
            "35/35 [==============================] - 76s 2s/step - loss: 0.0541 - val_loss: 0.0765\n"
          ]
        },
        {
          "output_type": "display_data",
          "data": {
            "image/png": "[encoded data removed]",
            "text/plain": [
              "<Figure size 432x288 with 1 Axes>"
            ]
          },
          "metadata": {
            "needs_background": "light"
          }
        }
      ]
    },
    {
      "cell_type": "code",
      "source": [
        "def encoder(input_data):\n",
        "    conv1 = Conv1D(3650, 10, activation='relu', padding='same')(input_data)\n",
        "    conv1 = BatchNormalization()(conv1)\n",
        "\n",
        "    conv1 = Conv1D(1825, 10, activation='relu', padding='same')(conv1)\n",
        "    conv1 = BatchNormalization()(conv1)\n",
        "\n",
        "    conv1 = MaxPooling1D(5)(conv1)\n",
        "    conv1 = Dropout(0.2)(conv1)\n",
        "\n",
        "    conv1 = Conv1D(912, 10, activation='relu', padding='same')(conv1)\n",
        "    conv1 = BatchNormalization()(conv1)\n",
        "  \n",
        "    conv2 = Conv1D(456, 10, activation='relu', padding='same')(conv1)\n",
        "    conv2 = BatchNormalization()(conv2)\n",
        "    conv2 = Conv1D(1, 10, activation='relu', padding='same')(conv2)\n",
        "    conv2 = BatchNormalization( name='bottleneck_layer')(conv2)\n",
        "\n",
        "    return conv2\n",
        "\n",
        "def decoder(encoded):\n",
        "    conv = Conv1D(456, 10, activation='relu', padding='same')(encoded)\n",
        "    conv = BatchNormalization()(conv)\n",
        "    \n",
        "    conv = Conv1D(912, 10, activation='relu', padding='same')(conv)\n",
        "    conv = BatchNormalization()(conv)\n",
        "  \n",
        "    conv = UpSampling1D(5)(conv)\n",
        "    conv = Dropout(0.2)(conv)\n",
        "\n",
        "    conv = Conv1D(1825, 10, activation='relu', padding='same')(conv)\n",
        "    conv = BatchNormalization()(conv)\n",
        "\n",
        "    conv = Conv1D(3650, 10, activation='relu', padding='same')(conv)\n",
        "    conv = BatchNormalization()(conv)\n",
        "  \n",
        "    decoded = Conv1D(1, 10, activation='sigmoid', padding='same')(conv)\n",
        "    print(decoded)\n",
        "    return decoded\n",
        "\n",
        "dataset_path= 'nasdaq2007_17.csv'\n",
        "data = read_data(dataset_path) #read file\n",
        "train=data[:300,:]\n",
        "test=data[300:,:]\n",
        "train,test = scale_data(train,test) #scale file data\n",
        "X,y=preprocces_data(train)#reshape train data \n",
        "X_test,y_test = preprocces_data(test)\n",
        "\n",
        "input_data = Input(shape=(y, 1))\n",
        "autoencoder = keras.Model(input_data, decoder(encoder(input_data)))\n",
        "\n",
        "opt = adam_v2.Adam(learning_rate=0.00001)\n",
        "# opt = RMSprop(learning_rate=0.000001)\n",
        "autoencoder.compile(loss='mean_squared_error', optimizer = opt )\n",
        "# Train the model\n",
        "autoencoder_train = autoencoder.fit(X,X, batch_size=10,epochs=4,verbose=1,validation_data=(X_test,X_test),validation_batch_size=10)\n",
        "\n",
        "#Plot the loss\n",
        "plt.plot(autoencoder_train.history['loss'])\n",
        "plt.plot(autoencoder_train.history['val_loss'])\n",
        "plt.title('Model Loss')\n",
        "plt.ylabel('Loss')\n",
        "plt.xlabel('Epoch')\n",
        "plt.ylim(0,1)\n",
        "plt.legend(['Train', 'Validation'], loc='upper left')\n",
        "plt.show()"
      ],
      "metadata": {
        "colab": {
          "base_uri": "https://localhost:8080/"
        },
        "id": "dxK_E4ngSped",
        "outputId": "d8de3c42-dc02-4e77-b03b-bbe2b00b0c28"
      },
      "execution_count": null,
      "outputs": [
        {
          "output_type": "stream",
          "name": "stdout",
          "text": [
            "KerasTensor(type_spec=TensorSpec(shape=(None, 3650, 1), dtype=tf.float32, name=None), name='conv1d_17/Sigmoid:0', description=\"created by layer 'conv1d_17'\")\n",
            "Epoch 1/4\n",
            " 2/30 [=>............................] - ETA: 4:44:01 - loss: 0.3554"
          ]
        }
      ]
    },
    {
      "cell_type": "code",
      "source": [
        "autoencoder.save('modelbig2.h5')\n",
        "autoencoder.summary()"
      ],
      "metadata": {
        "colab": {
          "base_uri": "https://localhost:8080/"
        },
        "id": "fL4dR41zYziN",
        "outputId": "4f2e0180-887a-4027-f723-0985c732d8a2"
      },
      "execution_count": null,
      "outputs": [
        {
          "output_type": "stream",
          "name": "stdout",
          "text": [
            "Model: \"model_7\"\n",
            "_________________________________________________________________\n",
            " Layer (type)                Output Shape              Param #   \n",
            "=================================================================\n",
            " input_6 (InputLayer)        [(None, 3650, 1)]         0         \n",
            "                                                                 \n",
            " conv1d_44 (Conv1D)          (None, 3650, 3650)        40150     \n",
            "                                                                 \n",
            " batch_normalization_34 (Bat  (None, 3650, 3650)       14600     \n",
            " chNormalization)                                                \n",
            "                                                                 \n",
            " conv1d_45 (Conv1D)          (None, 3650, 1825)        66614325  \n",
            "                                                                 \n",
            " batch_normalization_35 (Bat  (None, 3650, 1825)       7300      \n",
            " chNormalization)                                                \n",
            "                                                                 \n",
            " max_pooling1d_5 (MaxPooling  (None, 1825, 1825)       0         \n",
            " 1D)                                                             \n",
            "                                                                 \n",
            " dropout_10 (Dropout)        (None, 1825, 1825)        0         \n",
            "                                                                 \n",
            " conv1d_46 (Conv1D)          (None, 1825, 912)         16644912  \n",
            "                                                                 \n",
            " batch_normalization_36 (Bat  (None, 1825, 912)        3648      \n",
            " chNormalization)                                                \n",
            "                                                                 \n",
            " conv1d_47 (Conv1D)          (None, 1825, 456)         4159176   \n",
            "                                                                 \n",
            " batch_normalization_37 (Bat  (None, 1825, 456)        1824      \n",
            " chNormalization)                                                \n",
            "                                                                 \n",
            " conv1d_48 (Conv1D)          (None, 1825, 1)           4561      \n",
            "                                                                 \n",
            " bottleneck_layer (BatchNorm  (None, 1825, 1)          4         \n",
            " alization)                                                      \n",
            "                                                                 \n",
            " conv1d_49 (Conv1D)          (None, 1825, 456)         5016      \n",
            "                                                                 \n",
            " batch_normalization_38 (Bat  (None, 1825, 456)        1824      \n",
            " chNormalization)                                                \n",
            "                                                                 \n",
            " conv1d_50 (Conv1D)          (None, 1825, 912)         4159632   \n",
            "                                                                 \n",
            " batch_normalization_39 (Bat  (None, 1825, 912)        3648      \n",
            " chNormalization)                                                \n",
            "                                                                 \n",
            " up_sampling1d_5 (UpSampling  (None, 3650, 912)        0         \n",
            " 1D)                                                             \n",
            "                                                                 \n",
            " dropout_11 (Dropout)        (None, 3650, 912)         0         \n",
            "                                                                 \n",
            " conv1d_51 (Conv1D)          (None, 3650, 1825)        16645825  \n",
            "                                                                 \n",
            " batch_normalization_40 (Bat  (None, 3650, 1825)       7300      \n",
            " chNormalization)                                                \n",
            "                                                                 \n",
            " conv1d_52 (Conv1D)          (None, 3650, 3650)        66616150  \n",
            "                                                                 \n",
            " batch_normalization_41 (Bat  (None, 3650, 3650)       14600     \n",
            " chNormalization)                                                \n",
            "                                                                 \n",
            " conv1d_53 (Conv1D)          (None, 3650, 1)           36501     \n",
            "                                                                 \n",
            "=================================================================\n",
            "Total params: 174,980,996\n",
            "Trainable params: 174,953,622\n",
            "Non-trainable params: 27,374\n",
            "_________________________________________________________________\n"
          ]
        }
      ]
    },
    {
      "cell_type": "markdown",
      "source": [
        "Experimenting model 3 (latent dimensions)"
      ],
      "metadata": {
        "id": "ABxAZmCGJwKl"
      }
    },
    {
      "cell_type": "code",
      "source": [
        "def encoder(input_data):\n",
        "    conv1 = Conv1D(1825, 10, activation='relu', padding='same')(input_data)\n",
        "    conv1 = BatchNormalization()(conv1)\n",
        "\n",
        "    conv1 = MaxPooling1D(5)(conv1)\n",
        "    conv1 = Dropout(0.2)(conv1)\n",
        "\n",
        "    conv1 = Conv1D(912, 10, activation='relu', padding='same')(conv1)\n",
        "    conv1 = BatchNormalization()(conv1)\n",
        "  \n",
        "    conv2 = Conv1D(456, 10, activation='relu', padding='same')(conv1)\n",
        "    conv2 = BatchNormalization()(conv2)\n",
        "    conv2 = Conv1D(1, 10, activation='relu', padding='same')(conv2)\n",
        "    conv2 = BatchNormalization( name='bottleneck_layer')(conv2)\n",
        "\n",
        "    return conv2\n",
        "\n",
        "def decoder(encoded):\n",
        "    conv = Conv1D(456, 10, activation='relu', padding='same')(encoded)\n",
        "    conv = BatchNormalization()(conv)\n",
        "    \n",
        "    conv = Conv1D(912, 10, activation='relu', padding='same')(conv)\n",
        "    conv = BatchNormalization()(conv)\n",
        "  \n",
        "    conv = UpSampling1D(5)(conv)\n",
        "    conv = Dropout(0.2)(conv)\n",
        "\n",
        "    conv = Conv1D(1825, 10, activation='relu', padding='same')(conv)\n",
        "    conv = BatchNormalization()(conv)\n",
        "  \n",
        "    decoded = Conv1D(1, 10, activation='sigmoid', padding='same')(conv)\n",
        "    print(decoded)\n",
        "    return decoded\n",
        "\n",
        "dataset_path= 'nasdaq2007_17.csv'\n",
        "\n",
        "data = read_data(dataset_path) #read file\n",
        "train=data[:348,:]\n",
        "test=data[348:,:]\n",
        "train,test = scale_data(train,test) #scale file data\n",
        "X,y=preprocces_data(train)#reshape train data \n",
        "X_test,y_test = preprocces_data(test)\n",
        "\n",
        "input_data = Input(shape=(y, 1))\n",
        "autoencoder = keras.Model(input_data, decoder(encoder(input_data)))\n",
        "\n",
        "opt = adam_v2.Adam(learning_rate=0.00001)\n",
        "# opt = RMSprop(learning_rate=0.000001)\n",
        "autoencoder.compile(loss='mean_squared_error', optimizer = opt )\n",
        "# Train the model\n",
        "autoencoder_train = autoencoder.fit(X,X, batch_size=10,epochs=4,verbose=1,validation_data=(X_test,X_test),validation_batch_size=10)\n",
        "\n",
        "#Plot the loss\n",
        "plt.plot(autoencoder_train.history['loss'])\n",
        "plt.plot(autoencoder_train.history['val_loss'])\n",
        "plt.title('Model Loss')\n",
        "plt.ylabel('Loss')\n",
        "plt.xlabel('Epoch')\n",
        "plt.ylim(0,1)\n",
        "plt.legend(['Train', 'Validation'], loc='upper left')\n",
        "plt.show()"
      ],
      "metadata": {
        "colab": {
          "base_uri": "https://localhost:8080/",
          "height": 468
        },
        "id": "ntpjQiHNMxKj",
        "outputId": "c685922b-9e47-4c20-fa0d-dea271ad179e"
      },
      "execution_count": null,
      "outputs": [
        {
          "output_type": "stream",
          "name": "stdout",
          "text": [
            "KerasTensor(type_spec=TensorSpec(shape=(None, 3650, 1), dtype=tf.float32, name=None), name='conv1d_7/Sigmoid:0', description=\"created by layer 'conv1d_7'\")\n",
            "Epoch 1/4\n",
            "35/35 [==============================] - 156s 4s/step - loss: 0.2427 - val_loss: 0.3286\n",
            "Epoch 2/4\n",
            "35/35 [==============================] - 120s 3s/step - loss: 0.1309 - val_loss: 0.2033\n",
            "Epoch 3/4\n",
            "35/35 [==============================] - 120s 3s/step - loss: 0.0988 - val_loss: 0.1736\n",
            "Epoch 4/4\n",
            "35/35 [==============================] - 120s 3s/step - loss: 0.1007 - val_loss: 0.2319\n"
          ]
        },
        {
          "output_type": "display_data",
          "data": {
            "image/png": "[encoded data removed]",
            "text/plain": [
              "<Figure size 432x288 with 1 Axes>"
            ]
          },
          "metadata": {
            "needs_background": "light"
          }
        }
      ]
    },
    {
      "cell_type": "code",
      "source": [
        "def encoder(input_data):\n",
        "    conv1 = Conv1D(1825, 10, activation='relu', padding='same')(input_data)\n",
        "    conv1 = BatchNormalization()(conv1)\n",
        "\n",
        "    conv1 = MaxPooling1D(5)(conv1)\n",
        "    conv1 = Dropout(0.2)(conv1)\n",
        "\n",
        "    conv2 = Conv1D(456, 10, activation='relu', padding='same')(conv1)\n",
        "    conv2 = BatchNormalization()(conv2)\n",
        "    conv2 = Conv1D(1, 10, activation='relu', padding='same')(conv2)\n",
        "    conv2 = BatchNormalization( name='bottleneck_layer')(conv2)\n",
        "\n",
        "    return conv2\n",
        "\n",
        "def decoder(encoded):\n",
        "    conv = Conv1D(456, 10, activation='relu', padding='same')(encoded)\n",
        "    conv = BatchNormalization()(conv)\n",
        "  \n",
        "    conv = UpSampling1D(5)(conv)\n",
        "    conv = Dropout(0.2)(conv)\n",
        "\n",
        "    conv = Conv1D(1825, 10, activation='relu', padding='same')(conv)\n",
        "    conv = BatchNormalization()(conv)\n",
        "  \n",
        "    decoded = Conv1D(1, 10, activation='sigmoid', padding='same')(conv)\n",
        "    print(decoded)\n",
        "    return decoded\n",
        "\n",
        "dataset_path= 'nasdaq2007_17.csv'\n",
        "\n",
        "data = read_data(dataset_path) #read file\n",
        "train=data[:348,:]\n",
        "test=data[348:,:]\n",
        "train,test = scale_data(train,test) #scale file data\n",
        "X,y=preprocces_data(train)#reshape train data \n",
        "X_test,y_test = preprocces_data(test)\n",
        "\n",
        "input_data = Input(shape=(y, 1))\n",
        "autoencoder = keras.Model(input_data, decoder(encoder(input_data)))\n",
        "\n",
        "opt = adam_v2.Adam(learning_rate=0.00001)\n",
        "# opt = RMSprop(learning_rate=0.000001)\n",
        "autoencoder.compile(loss='mean_squared_error', optimizer = opt )\n",
        "# Train the model\n",
        "autoencoder_train = autoencoder.fit(X,X, batch_size=10,epochs=4,verbose=1,validation_data=(X_test,X_test),validation_batch_size=10)\n",
        "\n",
        "#Plot the loss\n",
        "plt.plot(autoencoder_train.history['loss'])\n",
        "plt.plot(autoencoder_train.history['val_loss'])\n",
        "plt.title('Model Loss')\n",
        "plt.ylabel('Loss')\n",
        "plt.xlabel('Epoch')\n",
        "plt.ylim(0,1)\n",
        "plt.legend(['Train', 'Validation'], loc='upper left')\n",
        "plt.show()"
      ],
      "metadata": {
        "colab": {
          "base_uri": "https://localhost:8080/",
          "height": 468
        },
        "id": "wThECJctKi8J",
        "outputId": "d8a0e554-1378-4709-82d5-89fe79926d6e"
      },
      "execution_count": null,
      "outputs": [
        {
          "output_type": "stream",
          "name": "stdout",
          "text": [
            "KerasTensor(type_spec=TensorSpec(shape=(None, 3650, 1), dtype=tf.float32, name=None), name='conv1d_13/Sigmoid:0', description=\"created by layer 'conv1d_13'\")\n",
            "Epoch 1/4\n",
            "35/35 [==============================] - 1582s 45s/step - loss: 0.1288 - val_loss: 0.2184\n",
            "Epoch 2/4\n",
            "35/35 [==============================] - 1573s 45s/step - loss: 0.0692 - val_loss: 0.1612\n",
            "Epoch 3/4\n",
            "35/35 [==============================] - 1571s 45s/step - loss: 0.0551 - val_loss: 0.1161\n",
            "Epoch 4/4\n",
            "35/35 [==============================] - 1572s 45s/step - loss: 0.0509 - val_loss: 0.0783\n"
          ]
        },
        {
          "output_type": "display_data",
          "data": {
            "image/png": "[encoded data removed]",
            "text/plain": [
              "<Figure size 432x288 with 1 Axes>"
            ]
          },
          "metadata": {
            "needs_background": "light"
          }
        }
      ]
    },
    {
      "cell_type": "markdown",
      "source": [
        "Experimenting mdel 4 (batch size and epochs)"
      ],
      "metadata": {
        "id": "B_q6St3PJ0c4"
      }
    },
    {
      "cell_type": "code",
      "source": [
        "def encoder(input_data):\n",
        "    conv1 = Conv1D(1825, 10, activation='relu', padding='same')(input_data)\n",
        "    conv1 = BatchNormalization()(conv1)\n",
        "\n",
        "    conv1 = MaxPooling1D(5)(conv1)\n",
        "    conv1 = Dropout(0.2)(conv1)\n",
        "\n",
        "    conv1 = Conv1D(912, 10, activation='relu', padding='same')(conv1)\n",
        "    conv1 = BatchNormalization()(conv1)\n",
        "  \n",
        "    conv2 = Conv1D(456, 10, activation='relu', padding='same')(conv1)\n",
        "    conv2 = BatchNormalization()(conv2)\n",
        "    conv2 = Conv1D(1, 10, activation='relu', padding='same')(conv2)\n",
        "    conv2 = BatchNormalization( name='bottleneck_layer')(conv2)\n",
        "\n",
        "    return conv2\n",
        "\n",
        "def decoder(encoded):\n",
        "    conv = Conv1D(456, 10, activation='relu', padding='same')(encoded)\n",
        "    conv = BatchNormalization()(conv)\n",
        "    \n",
        "    conv = Conv1D(912, 10, activation='relu', padding='same')(conv)\n",
        "    conv = BatchNormalization()(conv)\n",
        "  \n",
        "    conv = UpSampling1D(5)(conv)\n",
        "    conv = Dropout(0.2)(conv)\n",
        "\n",
        "    conv = Conv1D(1825, 10, activation='relu', padding='same')(conv)\n",
        "    conv = BatchNormalization()(conv)\n",
        "  \n",
        "    decoded = Conv1D(1, 10, activation='sigmoid', padding='same')(conv)\n",
        "    print(decoded)\n",
        "    return decoded\n",
        "\n",
        "dataset_path= 'nasdaq2007_17.csv'\n",
        "\n",
        "data = read_data(dataset_path) #read file\n",
        "train=data[:348,:]\n",
        "test=data[348:,:]\n",
        "train,test = scale_data(train,test) #scale file data\n",
        "X,y=preprocces_data(train)#reshape train data \n",
        "X_test,y_test = preprocces_data(test)\n",
        "\n",
        "input_data = Input(shape=(y, 1))\n",
        "autoencoder = keras.Model(input_data, decoder(encoder(input_data)))\n",
        "\n",
        "opt = adam_v2.Adam(learning_rate=0.00001)\n",
        "# opt = RMSprop(learning_rate=0.000001)\n",
        "autoencoder.compile(loss='mean_squared_error', optimizer = opt )\n",
        "# Train the model\n",
        "autoencoder_train = autoencoder.fit(X,X, batch_size=32,epochs=5,verbose=1,validation_data=(X_test,X_test),validation_batch_size=32)\n",
        "\n",
        "#Plot the loss\n",
        "plt.plot(autoencoder_train.history['loss'])\n",
        "plt.plot(autoencoder_train.history['val_loss'])\n",
        "plt.title('Model Loss')\n",
        "plt.ylabel('Loss')\n",
        "plt.xlabel('Epoch')\n",
        "plt.ylim(0,1)\n",
        "plt.legend(['Train', 'Validation'], loc='upper left')\n",
        "plt.show()"
      ],
      "metadata": {
        "colab": {
          "base_uri": "https://localhost:8080/",
          "height": 502
        },
        "id": "VZVhJn6CMrLM",
        "outputId": "89ecf522-43c1-40b1-a37b-46ada92a985b"
      },
      "execution_count": null,
      "outputs": [
        {
          "output_type": "stream",
          "name": "stdout",
          "text": [
            "KerasTensor(type_spec=TensorSpec(shape=(None, 3650, 1), dtype=tf.float32, name=None), name='conv1d_91/Sigmoid:0', description=\"created by layer 'conv1d_91'\")\n",
            "Epoch 1/5\n",
            "11/11 [==============================] - 149s 10s/step - loss: 0.1456 - val_loss: 0.2279\n",
            "Epoch 2/5\n",
            "11/11 [==============================] - 77s 7s/step - loss: 0.0640 - val_loss: 0.1996\n",
            "Epoch 3/5\n",
            "11/11 [==============================] - 77s 7s/step - loss: 0.0516 - val_loss: 0.1753\n",
            "Epoch 4/5\n",
            "11/11 [==============================] - 77s 7s/step - loss: 0.0533 - val_loss: 0.1535\n",
            "Epoch 5/5\n",
            "11/11 [==============================] - 77s 7s/step - loss: 0.0385 - val_loss: 0.1386\n"
          ]
        },
        {
          "output_type": "display_data",
          "data": {
            "image/png": "[encoded data removed]",
            "text/plain": [
              "<Figure size 432x288 with 1 Axes>"
            ]
          },
          "metadata": {
            "needs_background": "light"
          }
        }
      ]
    },
    {
      "cell_type": "markdown",
      "source": [
        "Experimenting model 5 (filter size)"
      ],
      "metadata": {
        "id": "5xKwR04QJ5Kg"
      }
    },
    {
      "cell_type": "code",
      "source": [
        "def encoder(input_data):\n",
        "    conv1 = Conv1D(1216, 10, activation='relu', padding='same')(input_data)\n",
        "    conv1 = BatchNormalization()(conv1)\n",
        "\n",
        "    conv1 = MaxPooling1D(5)(conv1)\n",
        "    conv1 = Dropout(0.2)(conv1)\n",
        "\n",
        "    conv1 = Conv1D(405, 10, activation='relu', padding='same')(conv1)\n",
        "    conv1 = BatchNormalization()(conv1)\n",
        "  \n",
        "    conv2 = Conv1D(135, 10, activation='relu', padding='same')(conv1)\n",
        "    conv2 = BatchNormalization()(conv2)\n",
        "    conv2 = Conv1D(1, 10, activation='relu', padding='same')(conv2)\n",
        "    conv2 = BatchNormalization( name='bottleneck_layer')(conv2)\n",
        "    return conv2\n",
        "\n",
        "def decoder(encoded):\n",
        "    conv = Conv1D(135, 10, activation='relu', padding='same')(encoded)\n",
        "    conv = BatchNormalization()(conv)\n",
        "    \n",
        "    conv = Conv1D(405, 10, activation='relu', padding='same')(conv)\n",
        "    conv = BatchNormalization()(conv)\n",
        "  \n",
        "    conv = UpSampling1D(5)(conv)\n",
        "    conv = Dropout(0.2)(conv)\n",
        "\n",
        "    conv = Conv1D(1216, 10, activation='relu', padding='same')(conv)\n",
        "    conv = BatchNormalization()(conv)\n",
        "  \n",
        "    decoded = Conv1D(1, 10, activation='sigmoid', padding='same')(conv)\n",
        "    print(decoded)\n",
        "    return decoded\n",
        "\n",
        "dataset_path= 'nasdaq2007_17.csv'\n",
        "\n",
        "data = read_data(dataset_path) #read file\n",
        "train=data[:348,:]\n",
        "test=data[348:,:]\n",
        "train,test = scale_data(train,test) #scale file data\n",
        "X,y=preprocces_data(train)#reshape train data \n",
        "X_test,y_test = preprocces_data(test)\n",
        "\n",
        "input_data = Input(shape=(y, 1))\n",
        "autoencoder = keras.Model(input_data, decoder(encoder(input_data)))\n",
        "\n",
        "opt = adam_v2.Adam(learning_rate=0.00001)\n",
        "# opt = RMSprop(learning_rate=0.000001)\n",
        "autoencoder.compile(loss='mean_squared_error', optimizer = opt )\n",
        "# Train the model\n",
        "autoencoder_train = autoencoder.fit(X,X, batch_size=10,epochs=4,verbose=1,validation_data=(X_test,X_test),validation_batch_size=10)\n",
        "\n",
        "#Plot the loss\n",
        "plt.plot(autoencoder_train.history['loss'])\n",
        "plt.plot(autoencoder_train.history['val_loss'])\n",
        "plt.title('Model Loss')\n",
        "plt.ylabel('Loss')\n",
        "plt.xlabel('Epoch')\n",
        "plt.ylim(0,1)\n",
        "plt.legend(['Train', 'Validation'], loc='upper left')\n",
        "plt.show()"
      ],
      "metadata": {
        "colab": {
          "base_uri": "https://localhost:8080/",
          "height": 468
        },
        "id": "KFpr2ighKh7K",
        "outputId": "84cfdcc3-b128-424b-bee6-56c9eb4b23f4"
      },
      "execution_count": null,
      "outputs": [
        {
          "output_type": "stream",
          "name": "stdout",
          "text": [
            "KerasTensor(type_spec=TensorSpec(shape=(None, 3650, 1), dtype=tf.float32, name=None), name='conv1d_99/Sigmoid:0', description=\"created by layer 'conv1d_99'\")\n",
            "Epoch 1/4\n",
            "35/35 [==============================] - 59s 1s/step - loss: 0.1313 - val_loss: 0.1613\n",
            "Epoch 2/4\n",
            "35/35 [==============================] - 38s 1s/step - loss: 0.0668 - val_loss: 0.0881\n",
            "Epoch 3/4\n",
            "35/35 [==============================] - 39s 1s/step - loss: 0.0655 - val_loss: 0.0510\n",
            "Epoch 4/4\n",
            "35/35 [==============================] - 38s 1s/step - loss: 0.0582 - val_loss: 0.0317\n"
          ]
        },
        {
          "output_type": "display_data",
          "data": {
            "image/png": "[encoded data removed]",
            "text/plain": [
              "<Figure size 432x288 with 1 Axes>"
            ]
          },
          "metadata": {
            "needs_background": "light"
          }
        }
      ]
    },
    {
      "cell_type": "markdown",
      "source": [
        "#BEST MODEL"
      ],
      "metadata": {
        "id": "bEPE4HXbF5GF"
      }
    },
    {
      "cell_type": "code",
      "source": [
        "def encoder(input_data):\n",
        "    conv1 = Conv1D(3650, 10, activation='relu', padding='same')(input_data)\n",
        "    conv1 = BatchNormalization()(conv1)\n",
        "\n",
        "    conv1 = Conv1D(1825, 10, activation='relu', padding='same')(conv1)\n",
        "    conv1 = BatchNormalization()(conv1)\n",
        "\n",
        "    conv1 = MaxPooling1D(5)(conv1)\n",
        "    conv1 = Dropout(0.2)(conv1)\n",
        "\n",
        "    conv1 = Conv1D(912, 10, activation='relu', padding='same')(conv1)\n",
        "    conv1 = BatchNormalization()(conv1)\n",
        "  \n",
        "    conv2 = Conv1D(456, 10, activation='relu', padding='same')(conv1)\n",
        "    conv2 = BatchNormalization()(conv2)\n",
        "    conv2 = Conv1D(1, 10, activation='relu', padding='same',name='bottleneck_layer')(conv2)\n",
        "    # conv2 = BatchNormalization( name='bottleneck_layer')(conv2)\n",
        "    # conv2 = MaxPooling1D(2)(conv2)\n",
        "    # conv2 = Dropout(0.2)(conv2)\n",
        "    return conv2\n",
        "\n",
        "def decoder(encoded):\n",
        "    conv = Conv1D(456, 10, activation='relu', padding='same')(encoded)\n",
        "    conv = BatchNormalization()(conv)\n",
        "    \n",
        "    conv = Conv1D(912, 10, activation='relu', padding='same')(conv)\n",
        "    conv = BatchNormalization()(conv)\n",
        "  \n",
        "    conv = UpSampling1D(5)(conv)\n",
        "    conv = Dropout(0.2)(conv)\n",
        "\n",
        "    conv = Conv1D(1825, 10, activation='relu', padding='same')(conv)\n",
        "    conv = BatchNormalization()(conv)\n",
        "\n",
        "    conv = Conv1D(3650, 10, activation='relu', padding='same')(conv)\n",
        "    conv = BatchNormalization()(conv)\n",
        "  \n",
        "    decoded = Conv1D(1, 10, activation='sigmoid', padding='same')(conv)\n",
        "    print(decoded)\n",
        "    return decoded\n",
        "\n",
        "#parse comand line arguments\n",
        "dataset_path= 'nasdaq2007_17.csv'\n",
        "# for index, argument in enumerate(argv):\n",
        "#     if argument == '-d': dataset_path = argv[index+1]\n",
        "\n",
        "data = read_data(dataset_path) #read file\n",
        "train=data[:300,:]\n",
        "test=data[300:,:]\n",
        "train,test = scale_data(train,test) #scale file data\n",
        "X,y=preprocces_data(train)#reshape train data \n",
        "X_test,y_test = preprocces_data(test)\n",
        "\n",
        "input_data = Input(shape=(y, 1))\n",
        "autoencoder = keras.Model(input_data, decoder(encoder(input_data)))\n",
        "\n",
        "opt = adam_v2.Adam(learning_rate=0.00001)\n",
        "# opt = RMSprop(learning_rate=0.000001)\n",
        "autoencoder.compile(loss='mean_squared_error', optimizer = opt )\n",
        "# Train the model\n",
        "autoencoder_train = autoencoder.fit(X,X, batch_size=10,epochs=4,verbose=1,validation_data=(X_test,X_test),validation_batch_size=10)\n",
        "\n",
        "#Plot the loss\n",
        "plt.plot(autoencoder_train.history['loss'])\n",
        "plt.plot(autoencoder_train.history['val_loss'])\n",
        "plt.title('Model Loss')\n",
        "plt.ylabel('Loss')\n",
        "plt.xlabel('Epoch')\n",
        "plt.ylim(0,1)\n",
        "plt.legend(['Train', 'Validation'], loc='upper left')\n",
        "plt.show()"
      ],
      "metadata": {
        "colab": {
          "base_uri": "https://localhost:8080/",
          "height": 468
        },
        "id": "Xa0qxpzRqjX_",
        "outputId": "700b22ff-124a-42c4-ece9-4003ab970a3e"
      },
      "execution_count": 3,
      "outputs": [
        {
          "output_type": "stream",
          "name": "stdout",
          "text": [
            "KerasTensor(type_spec=TensorSpec(shape=(None, 3650, 1), dtype=tf.float32, name=None), name='conv1d_8/Sigmoid:0', description=\"created by layer 'conv1d_8'\")\n",
            "Epoch 1/4\n",
            "30/30 [==============================] - 358s 10s/step - loss: 0.1980 - val_loss: 0.0280\n",
            "Epoch 2/4\n",
            "30/30 [==============================] - 284s 9s/step - loss: 0.1025 - val_loss: 0.0102\n",
            "Epoch 3/4\n",
            "30/30 [==============================] - 284s 9s/step - loss: 0.0776 - val_loss: 0.0114\n",
            "Epoch 4/4\n",
            "30/30 [==============================] - 284s 9s/step - loss: 0.0502 - val_loss: 0.0029\n"
          ]
        },
        {
          "output_type": "display_data",
          "data": {
            "image/png": "[encoded data removed]",
            "text/plain": [
              "<Figure size 432x288 with 1 Axes>"
            ]
          },
          "metadata": {
            "needs_background": "light"
          }
        }
      ]
    },
    {
      "cell_type": "code",
      "source": [
        "autoencoder.save('model.h5')\n",
        "autoencoder.summary()"
      ],
      "metadata": {
        "colab": {
          "base_uri": "https://localhost:8080/"
        },
        "id": "vh0v1ynAXPZI",
        "outputId": "97b53397-0aa8-46ac-be20-b1fcb787450b"
      },
      "execution_count": 4,
      "outputs": [
        {
          "output_type": "stream",
          "name": "stdout",
          "text": [
            "Model: \"model\"\n",
            "_________________________________________________________________\n",
            " Layer (type)                Output Shape              Param #   \n",
            "=================================================================\n",
            " input_1 (InputLayer)        [(None, 3650, 1)]         0         \n",
            "                                                                 \n",
            " conv1d (Conv1D)             (None, 3650, 3650)        40150     \n",
            "                                                                 \n",
            " batch_normalization (BatchN  (None, 3650, 3650)       14600     \n",
            " ormalization)                                                   \n",
            "                                                                 \n",
            " conv1d_1 (Conv1D)           (None, 3650, 1825)        66614325  \n",
            "                                                                 \n",
            " batch_normalization_1 (Batc  (None, 3650, 1825)       7300      \n",
            " hNormalization)                                                 \n",
            "                                                                 \n",
            " max_pooling1d (MaxPooling1D  (None, 730, 1825)        0         \n",
            " )                                                               \n",
            "                                                                 \n",
            " dropout (Dropout)           (None, 730, 1825)         0         \n",
            "                                                                 \n",
            " conv1d_2 (Conv1D)           (None, 730, 912)          16644912  \n",
            "                                                                 \n",
            " batch_normalization_2 (Batc  (None, 730, 912)         3648      \n",
            " hNormalization)                                                 \n",
            "                                                                 \n",
            " conv1d_3 (Conv1D)           (None, 730, 456)          4159176   \n",
            "                                                                 \n",
            " batch_normalization_3 (Batc  (None, 730, 456)         1824      \n",
            " hNormalization)                                                 \n",
            "                                                                 \n",
            " bottleneck_layer (Conv1D)   (None, 730, 1)            4561      \n",
            "                                                                 \n",
            " conv1d_4 (Conv1D)           (None, 730, 456)          5016      \n",
            "                                                                 \n",
            " batch_normalization_4 (Batc  (None, 730, 456)         1824      \n",
            " hNormalization)                                                 \n",
            "                                                                 \n",
            " conv1d_5 (Conv1D)           (None, 730, 912)          4159632   \n",
            "                                                                 \n",
            " batch_normalization_5 (Batc  (None, 730, 912)         3648      \n",
            " hNormalization)                                                 \n",
            "                                                                 \n",
            " up_sampling1d (UpSampling1D  (None, 3650, 912)        0         \n",
            " )                                                               \n",
            "                                                                 \n",
            " dropout_1 (Dropout)         (None, 3650, 912)         0         \n",
            "                                                                 \n",
            " conv1d_6 (Conv1D)           (None, 3650, 1825)        16645825  \n",
            "                                                                 \n",
            " batch_normalization_6 (Batc  (None, 3650, 1825)       7300      \n",
            " hNormalization)                                                 \n",
            "                                                                 \n",
            " conv1d_7 (Conv1D)           (None, 3650, 3650)        66616150  \n",
            "                                                                 \n",
            " batch_normalization_7 (Batc  (None, 3650, 3650)       14600     \n",
            " hNormalization)                                                 \n",
            "                                                                 \n",
            " conv1d_8 (Conv1D)           (None, 3650, 1)           36501     \n",
            "                                                                 \n",
            "=================================================================\n",
            "Total params: 174,980,992\n",
            "Trainable params: 174,953,620\n",
            "Non-trainable params: 27,372\n",
            "_________________________________________________________________\n"
          ]
        }
      ]
    }
  ]
}